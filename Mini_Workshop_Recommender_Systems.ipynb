{
  "nbformat": 4,
  "nbformat_minor": 0,
  "metadata": {
    "colab": {
      "name": "Mini Workshop - Recommender Systems.ipynb",
      "provenance": []
    },
    "kernelspec": {
      "name": "python3",
      "display_name": "Python 3"
    }
  },
  "cells": [
    {
      "cell_type": "markdown",
      "metadata": {
        "id": "6KlZ2XZCGPSq"
      },
      "source": [
        "LINK CODE : https://github.com/radityanurfadillah/mini-workshop-recsys"
      ]
    },
    {
      "cell_type": "markdown",
      "metadata": {
        "id": "L2-xHK_elOSO"
      },
      "source": [
        "# Import Library"
      ]
    },
    {
      "cell_type": "code",
      "metadata": {
        "id": "rAGA6EQiET2G"
      },
      "source": [
        "import pandas as pd\r\n",
        "import numpy as np\r\n",
        "import matplotlib.pyplot as plt"
      ],
      "execution_count": 1,
      "outputs": []
    },
    {
      "cell_type": "markdown",
      "metadata": {
        "id": "uUi_sqRulRjk"
      },
      "source": [
        "# Load Dataset"
      ]
    },
    {
      "cell_type": "markdown",
      "metadata": {
        "id": "8RhGo53RHNwR"
      },
      "source": [
        "Dataset yang digunakan pada workshop ini adalah MovieLens 100K."
      ]
    },
    {
      "cell_type": "code",
      "metadata": {
        "id": "o2ISNfSvEoYp"
      },
      "source": [
        "link_ratings = \"https://github.com/radityanurfadillah/mini-workshop-recsys/raw/main/data/ratings.csv\"\r\n",
        "link_movies = \"https://github.com/radityanurfadillah/mini-workshop-recsys/raw/main/data/movies.csv\"\r\n",
        "\r\n",
        "# Load dataset into pandas dataframe format\r\n",
        "ratings = pd.read_csv(link_ratings,sep=',')\r\n",
        "movies = pd.read_csv(link_movies,sep=',')"
      ],
      "execution_count": 2,
      "outputs": []
    },
    {
      "cell_type": "code",
      "metadata": {
        "colab": {
          "base_uri": "https://localhost:8080/",
          "height": 195
        },
        "id": "KOrWK1fjFHC8",
        "outputId": "cf8582f5-f086-4353-c5f4-bc2bd6b92aa5"
      },
      "source": [
        "ratings.head()"
      ],
      "execution_count": 3,
      "outputs": [
        {
          "output_type": "execute_result",
          "data": {
            "text/html": [
              "<div>\n",
              "<style scoped>\n",
              "    .dataframe tbody tr th:only-of-type {\n",
              "        vertical-align: middle;\n",
              "    }\n",
              "\n",
              "    .dataframe tbody tr th {\n",
              "        vertical-align: top;\n",
              "    }\n",
              "\n",
              "    .dataframe thead th {\n",
              "        text-align: right;\n",
              "    }\n",
              "</style>\n",
              "<table border=\"1\" class=\"dataframe\">\n",
              "  <thead>\n",
              "    <tr style=\"text-align: right;\">\n",
              "      <th></th>\n",
              "      <th>userId</th>\n",
              "      <th>movieId</th>\n",
              "      <th>rating</th>\n",
              "      <th>timestamp</th>\n",
              "    </tr>\n",
              "  </thead>\n",
              "  <tbody>\n",
              "    <tr>\n",
              "      <th>0</th>\n",
              "      <td>1</td>\n",
              "      <td>1</td>\n",
              "      <td>4.0</td>\n",
              "      <td>964982703</td>\n",
              "    </tr>\n",
              "    <tr>\n",
              "      <th>1</th>\n",
              "      <td>1</td>\n",
              "      <td>3</td>\n",
              "      <td>4.0</td>\n",
              "      <td>964981247</td>\n",
              "    </tr>\n",
              "    <tr>\n",
              "      <th>2</th>\n",
              "      <td>1</td>\n",
              "      <td>6</td>\n",
              "      <td>4.0</td>\n",
              "      <td>964982224</td>\n",
              "    </tr>\n",
              "    <tr>\n",
              "      <th>3</th>\n",
              "      <td>1</td>\n",
              "      <td>47</td>\n",
              "      <td>5.0</td>\n",
              "      <td>964983815</td>\n",
              "    </tr>\n",
              "    <tr>\n",
              "      <th>4</th>\n",
              "      <td>1</td>\n",
              "      <td>50</td>\n",
              "      <td>5.0</td>\n",
              "      <td>964982931</td>\n",
              "    </tr>\n",
              "  </tbody>\n",
              "</table>\n",
              "</div>"
            ],
            "text/plain": [
              "   userId  movieId  rating  timestamp\n",
              "0       1        1     4.0  964982703\n",
              "1       1        3     4.0  964981247\n",
              "2       1        6     4.0  964982224\n",
              "3       1       47     5.0  964983815\n",
              "4       1       50     5.0  964982931"
            ]
          },
          "metadata": {
            "tags": []
          },
          "execution_count": 3
        }
      ]
    },
    {
      "cell_type": "code",
      "metadata": {
        "colab": {
          "base_uri": "https://localhost:8080/",
          "height": 195
        },
        "id": "LmoOBIT5HxKZ",
        "outputId": "324ab28d-9ec3-4255-f4a2-7136c02ab77d"
      },
      "source": [
        "ratings.tail()"
      ],
      "execution_count": 4,
      "outputs": [
        {
          "output_type": "execute_result",
          "data": {
            "text/html": [
              "<div>\n",
              "<style scoped>\n",
              "    .dataframe tbody tr th:only-of-type {\n",
              "        vertical-align: middle;\n",
              "    }\n",
              "\n",
              "    .dataframe tbody tr th {\n",
              "        vertical-align: top;\n",
              "    }\n",
              "\n",
              "    .dataframe thead th {\n",
              "        text-align: right;\n",
              "    }\n",
              "</style>\n",
              "<table border=\"1\" class=\"dataframe\">\n",
              "  <thead>\n",
              "    <tr style=\"text-align: right;\">\n",
              "      <th></th>\n",
              "      <th>userId</th>\n",
              "      <th>movieId</th>\n",
              "      <th>rating</th>\n",
              "      <th>timestamp</th>\n",
              "    </tr>\n",
              "  </thead>\n",
              "  <tbody>\n",
              "    <tr>\n",
              "      <th>100831</th>\n",
              "      <td>610</td>\n",
              "      <td>166534</td>\n",
              "      <td>4.0</td>\n",
              "      <td>1493848402</td>\n",
              "    </tr>\n",
              "    <tr>\n",
              "      <th>100832</th>\n",
              "      <td>610</td>\n",
              "      <td>168248</td>\n",
              "      <td>5.0</td>\n",
              "      <td>1493850091</td>\n",
              "    </tr>\n",
              "    <tr>\n",
              "      <th>100833</th>\n",
              "      <td>610</td>\n",
              "      <td>168250</td>\n",
              "      <td>5.0</td>\n",
              "      <td>1494273047</td>\n",
              "    </tr>\n",
              "    <tr>\n",
              "      <th>100834</th>\n",
              "      <td>610</td>\n",
              "      <td>168252</td>\n",
              "      <td>5.0</td>\n",
              "      <td>1493846352</td>\n",
              "    </tr>\n",
              "    <tr>\n",
              "      <th>100835</th>\n",
              "      <td>610</td>\n",
              "      <td>170875</td>\n",
              "      <td>3.0</td>\n",
              "      <td>1493846415</td>\n",
              "    </tr>\n",
              "  </tbody>\n",
              "</table>\n",
              "</div>"
            ],
            "text/plain": [
              "        userId  movieId  rating   timestamp\n",
              "100831     610   166534     4.0  1493848402\n",
              "100832     610   168248     5.0  1493850091\n",
              "100833     610   168250     5.0  1494273047\n",
              "100834     610   168252     5.0  1493846352\n",
              "100835     610   170875     3.0  1493846415"
            ]
          },
          "metadata": {
            "tags": []
          },
          "execution_count": 4
        }
      ]
    },
    {
      "cell_type": "code",
      "metadata": {
        "colab": {
          "base_uri": "https://localhost:8080/",
          "height": 195
        },
        "id": "X7OwbOi6HHt4",
        "outputId": "9b70bc0e-980c-40c4-b0e2-9b31bbf46cdc"
      },
      "source": [
        "movies.head()"
      ],
      "execution_count": 5,
      "outputs": [
        {
          "output_type": "execute_result",
          "data": {
            "text/html": [
              "<div>\n",
              "<style scoped>\n",
              "    .dataframe tbody tr th:only-of-type {\n",
              "        vertical-align: middle;\n",
              "    }\n",
              "\n",
              "    .dataframe tbody tr th {\n",
              "        vertical-align: top;\n",
              "    }\n",
              "\n",
              "    .dataframe thead th {\n",
              "        text-align: right;\n",
              "    }\n",
              "</style>\n",
              "<table border=\"1\" class=\"dataframe\">\n",
              "  <thead>\n",
              "    <tr style=\"text-align: right;\">\n",
              "      <th></th>\n",
              "      <th>movieId</th>\n",
              "      <th>title</th>\n",
              "      <th>genres</th>\n",
              "    </tr>\n",
              "  </thead>\n",
              "  <tbody>\n",
              "    <tr>\n",
              "      <th>0</th>\n",
              "      <td>1</td>\n",
              "      <td>Toy Story (1995)</td>\n",
              "      <td>Adventure|Animation|Children|Comedy|Fantasy</td>\n",
              "    </tr>\n",
              "    <tr>\n",
              "      <th>1</th>\n",
              "      <td>2</td>\n",
              "      <td>Jumanji (1995)</td>\n",
              "      <td>Adventure|Children|Fantasy</td>\n",
              "    </tr>\n",
              "    <tr>\n",
              "      <th>2</th>\n",
              "      <td>3</td>\n",
              "      <td>Grumpier Old Men (1995)</td>\n",
              "      <td>Comedy|Romance</td>\n",
              "    </tr>\n",
              "    <tr>\n",
              "      <th>3</th>\n",
              "      <td>4</td>\n",
              "      <td>Waiting to Exhale (1995)</td>\n",
              "      <td>Comedy|Drama|Romance</td>\n",
              "    </tr>\n",
              "    <tr>\n",
              "      <th>4</th>\n",
              "      <td>5</td>\n",
              "      <td>Father of the Bride Part II (1995)</td>\n",
              "      <td>Comedy</td>\n",
              "    </tr>\n",
              "  </tbody>\n",
              "</table>\n",
              "</div>"
            ],
            "text/plain": [
              "   movieId  ...                                       genres\n",
              "0        1  ...  Adventure|Animation|Children|Comedy|Fantasy\n",
              "1        2  ...                   Adventure|Children|Fantasy\n",
              "2        3  ...                               Comedy|Romance\n",
              "3        4  ...                         Comedy|Drama|Romance\n",
              "4        5  ...                                       Comedy\n",
              "\n",
              "[5 rows x 3 columns]"
            ]
          },
          "metadata": {
            "tags": []
          },
          "execution_count": 5
        }
      ]
    },
    {
      "cell_type": "markdown",
      "metadata": {
        "id": "dOWOhE9BluSh"
      },
      "source": [
        "# Explore Dataset"
      ]
    },
    {
      "cell_type": "code",
      "metadata": {
        "colab": {
          "base_uri": "https://localhost:8080/"
        },
        "id": "UeJ3BU8qdubM",
        "outputId": "28a8f10d-38f7-4d2c-f58c-9bea5c3ed8d9"
      },
      "source": [
        "len(ratings)"
      ],
      "execution_count": 6,
      "outputs": [
        {
          "output_type": "execute_result",
          "data": {
            "text/plain": [
              "100836"
            ]
          },
          "metadata": {
            "tags": []
          },
          "execution_count": 6
        }
      ]
    },
    {
      "cell_type": "code",
      "metadata": {
        "colab": {
          "base_uri": "https://localhost:8080/"
        },
        "id": "H7376udwfbVK",
        "outputId": "ee051e3a-f540-483e-a980-ef3d527b0940"
      },
      "source": [
        "len(movies)"
      ],
      "execution_count": 7,
      "outputs": [
        {
          "output_type": "execute_result",
          "data": {
            "text/plain": [
              "9742"
            ]
          },
          "metadata": {
            "tags": []
          },
          "execution_count": 7
        }
      ]
    },
    {
      "cell_type": "code",
      "metadata": {
        "colab": {
          "base_uri": "https://localhost:8080/",
          "height": 282
        },
        "id": "S1ZG5V2IlxDt",
        "outputId": "e8e4df4a-a93e-46d5-d821-5939e9c9888d"
      },
      "source": [
        "ratings.rating.hist()"
      ],
      "execution_count": 8,
      "outputs": [
        {
          "output_type": "execute_result",
          "data": {
            "text/plain": [
              "<matplotlib.axes._subplots.AxesSubplot at 0x7fe97a6c8160>"
            ]
          },
          "metadata": {
            "tags": []
          },
          "execution_count": 8
        },
        {
          "output_type": "display_data",
          "data": {
            "image/png": "[encoded data removed]",
            "text/plain": [
              "<Figure size 432x288 with 1 Axes>"
            ]
          },
          "metadata": {
            "tags": [],
            "needs_background": "light"
          }
        }
      ]
    },
    {
      "cell_type": "code",
      "metadata": {
        "colab": {
          "base_uri": "https://localhost:8080/"
        },
        "id": "urPqTb50V-fO",
        "outputId": "2889999d-1228-44b3-e0ee-a3563fe6b08e"
      },
      "source": [
        "np.sort(ratings.rating.unique())"
      ],
      "execution_count": 9,
      "outputs": [
        {
          "output_type": "execute_result",
          "data": {
            "text/plain": [
              "array([0.5, 1. , 1.5, 2. , 2.5, 3. , 3.5, 4. , 4.5, 5. ])"
            ]
          },
          "metadata": {
            "tags": []
          },
          "execution_count": 9
        }
      ]
    },
    {
      "cell_type": "code",
      "metadata": {
        "id": "qmuzJndSG8vp"
      },
      "source": [
        "# YOUR CODE HERE"
      ],
      "execution_count": 10,
      "outputs": []
    },
    {
      "cell_type": "markdown",
      "metadata": {
        "id": "ZTrLc-eKlZue"
      },
      "source": [
        "# Install Surprise Library"
      ]
    },
    {
      "cell_type": "code",
      "metadata": {
        "colab": {
          "base_uri": "https://localhost:8080/"
        },
        "id": "usPeJQk7lbjO",
        "outputId": "f3e706b8-e340-485d-8d89-51a73eb978e0"
      },
      "source": [
        "!pip install surprise"
      ],
      "execution_count": 11,
      "outputs": [
        {
          "output_type": "stream",
          "text": [
            "Collecting surprise\n",
            "  Downloading https://files.pythonhosted.org/packages/61/de/e5cba8682201fcf9c3719a6fdda95693468ed061945493dea2dd37c5618b/surprise-0.1-py2.py3-none-any.whl\n",
            "Collecting scikit-surprise\n",
            "\u001b[?25l  Downloading https://files.pythonhosted.org/packages/97/37/5d334adaf5ddd65da99fc65f6507e0e4599d092ba048f4302fe8775619e8/scikit-surprise-1.1.1.tar.gz (11.8MB)\n",
            "\u001b[K     |████████████████████████████████| 11.8MB 354kB/s \n",
            "\u001b[?25hRequirement already satisfied: joblib>=0.11 in /usr/local/lib/python3.6/dist-packages (from scikit-surprise->surprise) (1.0.0)\n",
            "Requirement already satisfied: numpy>=1.11.2 in /usr/local/lib/python3.6/dist-packages (from scikit-surprise->surprise) (1.19.5)\n",
            "Requirement already satisfied: scipy>=1.0.0 in /usr/local/lib/python3.6/dist-packages (from scikit-surprise->surprise) (1.4.1)\n",
            "Requirement already satisfied: six>=1.10.0 in /usr/local/lib/python3.6/dist-packages (from scikit-surprise->surprise) (1.15.0)\n",
            "Building wheels for collected packages: scikit-surprise\n",
            "  Building wheel for scikit-surprise (setup.py) ... \u001b[?25l\u001b[?25hdone\n",
            "  Created wheel for scikit-surprise: filename=scikit_surprise-1.1.1-cp36-cp36m-linux_x86_64.whl size=1618280 sha256=061414ac9f17b16ea824d1596f83766b07192a3ff5ef47e41c9c80235ad5a370\n",
            "  Stored in directory: /root/.cache/pip/wheels/78/9c/3d/41b419c9d2aff5b6e2b4c0fc8d25c538202834058f9ed110d0\n",
            "Successfully built scikit-surprise\n",
            "Installing collected packages: scikit-surprise, surprise\n",
            "Successfully installed scikit-surprise-1.1.1 surprise-0.1\n"
          ],
          "name": "stdout"
        }
      ]
    },
    {
      "cell_type": "markdown",
      "metadata": {
        "id": "5_MXAQWmsqED"
      },
      "source": [
        "# Recommendation with Surprise Built-In Dataset"
      ]
    },
    {
      "cell_type": "code",
      "metadata": {
        "colab": {
          "base_uri": "https://localhost:8080/"
        },
        "id": "RsCZ_PD7Vr4i",
        "outputId": "894ed7ae-2435-4abf-e361-97218fc67fc7"
      },
      "source": [
        "from surprise import Dataset\r\n",
        "from surprise.model_selection import train_test_split\r\n",
        "from surprise import SVD\r\n",
        "from surprise import accuracy\r\n",
        "\r\n",
        "# Load the movielens-100k dataset (download it if needed).\r\n",
        "data = Dataset.load_builtin('ml-100k')\r\n",
        "\r\n",
        "# sample random trainset and testset\r\n",
        "# test set is made of 20% of the ratings.\r\n",
        "trainset, testset = train_test_split(data, test_size=.20)\r\n",
        "\r\n",
        "# We'll use the famous SVD algorithm.\r\n",
        "algo = SVD()\r\n",
        "\r\n",
        "# Train the algorithm on the trainset, and predict ratings for the testset\r\n",
        "algo.fit(trainset)\r\n",
        "predictions = algo.test(testset)\r\n",
        "\r\n",
        "# Then compute RMSE\r\n",
        "rmse = accuracy.rmse(predictions)"
      ],
      "execution_count": 12,
      "outputs": [
        {
          "output_type": "stream",
          "text": [
            "Dataset ml-100k could not be found. Do you want to download it? [Y/n] Y\n",
            "Trying to download dataset from http://files.grouplens.org/datasets/movielens/ml-100k.zip...\n",
            "Done! Dataset ml-100k has been saved to /root/.surprise_data/ml-100k\n",
            "RMSE: 0.9360\n"
          ],
          "name": "stdout"
        }
      ]
    },
    {
      "cell_type": "code",
      "metadata": {
        "colab": {
          "base_uri": "https://localhost:8080/"
        },
        "id": "9yxpX78-llUq",
        "outputId": "05a78a71-8819-4337-e83d-1dbd8f42d2f0"
      },
      "source": [
        "from surprise import Dataset\r\n",
        "from surprise import SVD\r\n",
        "from surprise.model_selection import cross_validate\r\n",
        "\r\n",
        "# Load the movielens-100k dataset (download it if needed).\r\n",
        "data = Dataset.load_builtin('ml-100k')\r\n",
        "\r\n",
        "# Use the famous SVD algorithm.\r\n",
        "algo = SVD()\r\n",
        "\r\n",
        "# Run 5-fold cross-validation and print results.\r\n",
        "results = cross_validate(algo, data, measures=['RMSE', 'MAE'], cv=5, verbose=True)"
      ],
      "execution_count": 13,
      "outputs": [
        {
          "output_type": "stream",
          "text": [
            "Evaluating RMSE, MAE of algorithm SVD on 5 split(s).\n",
            "\n",
            "                  Fold 1  Fold 2  Fold 3  Fold 4  Fold 5  Mean    Std     \n",
            "RMSE (testset)    0.9369  0.9260  0.9340  0.9364  0.9382  0.9343  0.0044  \n",
            "MAE (testset)     0.7390  0.7285  0.7361  0.7402  0.7405  0.7368  0.0044  \n",
            "Fit time          8.19    6.03    4.97    4.98    4.92    5.82    1.26    \n",
            "Test time         0.29    0.23    0.16    0.24    0.15    0.21    0.05    \n"
          ],
          "name": "stdout"
        }
      ]
    },
    {
      "cell_type": "code",
      "metadata": {
        "colab": {
          "base_uri": "https://localhost:8080/"
        },
        "id": "7AuYN7RmslJw",
        "outputId": "0e09372c-eae2-40ac-aa57-facebdf5baee"
      },
      "source": [
        "results"
      ],
      "execution_count": 14,
      "outputs": [
        {
          "output_type": "execute_result",
          "data": {
            "text/plain": [
              "{'fit_time': (8.18911337852478,\n",
              "  6.03084397315979,\n",
              "  4.973132371902466,\n",
              "  4.9814369678497314,\n",
              "  4.9160544872283936),\n",
              " 'test_mae': array([0.73896772, 0.728548  , 0.73608727, 0.74015387, 0.74049017]),\n",
              " 'test_rmse': array([0.93686853, 0.92597932, 0.9339538 , 0.9364134 , 0.93821898]),\n",
              " 'test_time': (0.29253411293029785,\n",
              "  0.23353314399719238,\n",
              "  0.15630578994750977,\n",
              "  0.23709917068481445,\n",
              "  0.14674830436706543)}"
            ]
          },
          "metadata": {
            "tags": []
          },
          "execution_count": 14
        }
      ]
    },
    {
      "cell_type": "code",
      "metadata": {
        "colab": {
          "base_uri": "https://localhost:8080/"
        },
        "id": "txFhEdBpsm9H",
        "outputId": "4fba41db-1e6b-4288-9e69-91f902224aa2"
      },
      "source": [
        "print(\"Average MAE: \", np.average(results[\"test_mae\"]))\r\n",
        "print(\"Average RMSE: \", np.average(results[\"test_rmse\"]))"
      ],
      "execution_count": 15,
      "outputs": [
        {
          "output_type": "stream",
          "text": [
            "Average MAE:  0.7368494056548646\n",
            "Average RMSE:  0.9342868054224001\n"
          ],
          "name": "stdout"
        }
      ]
    },
    {
      "cell_type": "markdown",
      "metadata": {
        "id": "XplbdVtTswSs"
      },
      "source": [
        "# Recommendation with Custom Dataset"
      ]
    },
    {
      "cell_type": "code",
      "metadata": {
        "colab": {
          "base_uri": "https://localhost:8080/",
          "height": 195
        },
        "id": "cGX05mt-s4rO",
        "outputId": "98c54c73-ec47-4dd2-8c21-60d11a645988"
      },
      "source": [
        "df = ratings[[\"userId\",\"movieId\",\"rating\"]]\r\n",
        "df.head()"
      ],
      "execution_count": 16,
      "outputs": [
        {
          "output_type": "execute_result",
          "data": {
            "text/html": [
              "<div>\n",
              "<style scoped>\n",
              "    .dataframe tbody tr th:only-of-type {\n",
              "        vertical-align: middle;\n",
              "    }\n",
              "\n",
              "    .dataframe tbody tr th {\n",
              "        vertical-align: top;\n",
              "    }\n",
              "\n",
              "    .dataframe thead th {\n",
              "        text-align: right;\n",
              "    }\n",
              "</style>\n",
              "<table border=\"1\" class=\"dataframe\">\n",
              "  <thead>\n",
              "    <tr style=\"text-align: right;\">\n",
              "      <th></th>\n",
              "      <th>userId</th>\n",
              "      <th>movieId</th>\n",
              "      <th>rating</th>\n",
              "    </tr>\n",
              "  </thead>\n",
              "  <tbody>\n",
              "    <tr>\n",
              "      <th>0</th>\n",
              "      <td>1</td>\n",
              "      <td>1</td>\n",
              "      <td>4.0</td>\n",
              "    </tr>\n",
              "    <tr>\n",
              "      <th>1</th>\n",
              "      <td>1</td>\n",
              "      <td>3</td>\n",
              "      <td>4.0</td>\n",
              "    </tr>\n",
              "    <tr>\n",
              "      <th>2</th>\n",
              "      <td>1</td>\n",
              "      <td>6</td>\n",
              "      <td>4.0</td>\n",
              "    </tr>\n",
              "    <tr>\n",
              "      <th>3</th>\n",
              "      <td>1</td>\n",
              "      <td>47</td>\n",
              "      <td>5.0</td>\n",
              "    </tr>\n",
              "    <tr>\n",
              "      <th>4</th>\n",
              "      <td>1</td>\n",
              "      <td>50</td>\n",
              "      <td>5.0</td>\n",
              "    </tr>\n",
              "  </tbody>\n",
              "</table>\n",
              "</div>"
            ],
            "text/plain": [
              "   userId  movieId  rating\n",
              "0       1        1     4.0\n",
              "1       1        3     4.0\n",
              "2       1        6     4.0\n",
              "3       1       47     5.0\n",
              "4       1       50     5.0"
            ]
          },
          "metadata": {
            "tags": []
          },
          "execution_count": 16
        }
      ]
    },
    {
      "cell_type": "code",
      "metadata": {
        "colab": {
          "base_uri": "https://localhost:8080/"
        },
        "id": "6CwzCD0wVRQx",
        "outputId": "4420e2f6-4a5e-4df8-8849-698447291193"
      },
      "source": [
        "min_rating = df[\"rating\"].min()\r\n",
        "max_rating = df[\"rating\"].max()\r\n",
        "\r\n",
        "print(\"Rating range: {0} to {1}\".format(min_rating, max_rating))"
      ],
      "execution_count": 17,
      "outputs": [
        {
          "output_type": "stream",
          "text": [
            "Rating range: 0.5 to 5.0\n"
          ],
          "name": "stdout"
        }
      ]
    },
    {
      "cell_type": "code",
      "metadata": {
        "colab": {
          "base_uri": "https://localhost:8080/"
        },
        "id": "2P6L_eWls0IP",
        "outputId": "2388353c-f155-49be-995a-fdd8f2b49aa0"
      },
      "source": [
        "from surprise import Reader\r\n",
        "from surprise import Dataset\r\n",
        "from surprise.model_selection import train_test_split\r\n",
        "from surprise import SVD\r\n",
        "from surprise import accuracy\r\n",
        "\r\n",
        "# Load the dataset into Surprise format\r\n",
        "reader = Reader(rating_scale=(min_rating, max_rating))\r\n",
        "data = Dataset.load_from_df(df, reader = reader)\r\n",
        "\r\n",
        "# sample random trainset and testset\r\n",
        "# test set is made of 20% of the ratings.\r\n",
        "trainset, testset = train_test_split(data, test_size=.20)\r\n",
        "\r\n",
        "# We'll use the famous SVD algorithm.\r\n",
        "algo = SVD()\r\n",
        "\r\n",
        "# Train the algorithm on the trainset, and predict ratings for the testset\r\n",
        "algo.fit(trainset)\r\n",
        "predictions = algo.test(testset)\r\n",
        "\r\n",
        "# Then compute RMSE\r\n",
        "rmse = accuracy.rmse(predictions)"
      ],
      "execution_count": 18,
      "outputs": [
        {
          "output_type": "stream",
          "text": [
            "RMSE: 0.8690\n"
          ],
          "name": "stdout"
        }
      ]
    },
    {
      "cell_type": "code",
      "metadata": {
        "colab": {
          "base_uri": "https://localhost:8080/"
        },
        "id": "8yfrytTiqKqs",
        "outputId": "f789ae81-deaf-46ed-d771-3648bd0bde6d"
      },
      "source": [
        "predictions[0]"
      ],
      "execution_count": 19,
      "outputs": [
        {
          "output_type": "execute_result",
          "data": {
            "text/plain": [
              "Prediction(uid=280, iid=1270, r_ui=3.5, est=4.146146813744935, details={'was_impossible': False})"
            ]
          },
          "metadata": {
            "tags": []
          },
          "execution_count": 19
        }
      ]
    },
    {
      "cell_type": "code",
      "metadata": {
        "colab": {
          "base_uri": "https://localhost:8080/"
        },
        "id": "PhhAucCraoSF",
        "outputId": "9c36b9d0-6272-4185-fb80-f871c9ea9d20"
      },
      "source": [
        "from surprise import Reader\r\n",
        "from surprise import Dataset\r\n",
        "from surprise import SVD\r\n",
        "from surprise.model_selection import cross_validate\r\n",
        "\r\n",
        "# Load the dataset into Surprise format\r\n",
        "reader = Reader(rating_scale=(min_rating, max_rating))\r\n",
        "data = Dataset.load_from_df(df, reader = reader)\r\n",
        "\r\n",
        "# Use the famous SVD algorithm.\r\n",
        "algo = SVD()\r\n",
        "\r\n",
        "# Run 5-fold cross-validation and print results.\r\n",
        "results = cross_validate(algo, data, measures=['RMSE', 'MAE'], cv=5, verbose=True)"
      ],
      "execution_count": 20,
      "outputs": [
        {
          "output_type": "stream",
          "text": [
            "Evaluating RMSE, MAE of algorithm SVD on 5 split(s).\n",
            "\n",
            "                  Fold 1  Fold 2  Fold 3  Fold 4  Fold 5  Mean    Std     \n",
            "RMSE (testset)    0.8740  0.8751  0.8660  0.8791  0.8740  0.8736  0.0043  \n",
            "MAE (testset)     0.6731  0.6716  0.6664  0.6741  0.6701  0.6711  0.0027  \n",
            "Fit time          5.11    5.01    5.15    5.04    5.10    5.08    0.05    \n",
            "Test time         0.24    0.24    0.14    0.23    0.14    0.20    0.05    \n"
          ],
          "name": "stdout"
        }
      ]
    },
    {
      "cell_type": "code",
      "metadata": {
        "id": "-9Hz75ShqLf8",
        "colab": {
          "base_uri": "https://localhost:8080/"
        },
        "outputId": "b2b41594-8cb9-40d9-a0c0-92e2077d36ed"
      },
      "source": [
        "results"
      ],
      "execution_count": 21,
      "outputs": [
        {
          "output_type": "execute_result",
          "data": {
            "text/plain": [
              "{'fit_time': (5.110562324523926,\n",
              "  5.00864577293396,\n",
              "  5.1506242752075195,\n",
              "  5.042943954467773,\n",
              "  5.095376253128052),\n",
              " 'test_mae': array([0.67309148, 0.67158152, 0.66638462, 0.67410923, 0.67014207]),\n",
              " 'test_rmse': array([0.87404181, 0.87510862, 0.86601131, 0.87909909, 0.87396437]),\n",
              " 'test_time': (0.23715472221374512,\n",
              "  0.23969244956970215,\n",
              "  0.13792896270751953,\n",
              "  0.23253870010375977,\n",
              "  0.13671302795410156)}"
            ]
          },
          "metadata": {
            "tags": []
          },
          "execution_count": 21
        }
      ]
    },
    {
      "cell_type": "code",
      "metadata": {
        "colab": {
          "base_uri": "https://localhost:8080/"
        },
        "id": "Pzq41VqEbfR4",
        "outputId": "7854d43b-e7cc-4e33-c47b-ea1d7f109cc1"
      },
      "source": [
        "print(\"Average MAE: \", np.average(results[\"test_mae\"]))\r\n",
        "print(\"Average RMSE: \", np.average(results[\"test_rmse\"]))"
      ],
      "execution_count": 22,
      "outputs": [
        {
          "output_type": "stream",
          "text": [
            "Average MAE:  0.6710617843906119\n",
            "Average RMSE:  0.8736450420547671\n"
          ],
          "name": "stdout"
        }
      ]
    },
    {
      "cell_type": "markdown",
      "metadata": {
        "id": "SlMMLxqILKhZ"
      },
      "source": [
        "# Hyperparameter Tuning"
      ]
    },
    {
      "cell_type": "code",
      "metadata": {
        "colab": {
          "base_uri": "https://localhost:8080/"
        },
        "id": "dEt5pLN2LNgR",
        "outputId": "5ddaee0c-c4cd-4c91-a6e6-c59190bbd3f9"
      },
      "source": [
        "from surprise import Reader\r\n",
        "from surprise import Dataset\r\n",
        "from surprise import SVD\r\n",
        "from surprise.model_selection import GridSearchCV\r\n",
        "\r\n",
        "# Load the dataset into Surprise format\r\n",
        "reader = Reader(rating_scale=(min_rating, max_rating))\r\n",
        "data = Dataset.load_from_df(df, reader = reader)\r\n",
        "\r\n",
        "param_grid = {\r\n",
        "    'n_factors': [20, 50, 100],\r\n",
        "    'n_epochs': [5, 10]\r\n",
        "}\r\n",
        "\r\n",
        "gs = GridSearchCV(SVD, param_grid, measures=['rmse', 'mae'], cv=5)\r\n",
        "\r\n",
        "gs.fit(data)\r\n",
        "\r\n",
        "# best RMSE score\r\n",
        "print(gs.best_score['rmse'])\r\n",
        "\r\n",
        "# combination of parameters that gave the best RMSE score\r\n",
        "print(gs.best_params['rmse'])"
      ],
      "execution_count": 23,
      "outputs": [
        {
          "output_type": "stream",
          "text": [
            "0.8776176820749425\n",
            "{'n_factors': 20, 'n_epochs': 10}\n"
          ],
          "name": "stdout"
        }
      ]
    },
    {
      "cell_type": "code",
      "metadata": {
        "colab": {
          "base_uri": "https://localhost:8080/"
        },
        "id": "ooVAETQZL8ap",
        "outputId": "b9ee1412-ef4d-4177-8d7f-6985adedc857"
      },
      "source": [
        "best_factor = gs.best_params['rmse']['n_factors']\r\n",
        "best_factor"
      ],
      "execution_count": 24,
      "outputs": [
        {
          "output_type": "execute_result",
          "data": {
            "text/plain": [
              "20"
            ]
          },
          "metadata": {
            "tags": []
          },
          "execution_count": 24
        }
      ]
    },
    {
      "cell_type": "code",
      "metadata": {
        "colab": {
          "base_uri": "https://localhost:8080/"
        },
        "id": "zKmOyZCyNZY7",
        "outputId": "e3572dde-841a-4f05-a760-937ec60c87d5"
      },
      "source": [
        "best_epoch = gs.best_params['rmse']['n_epochs']\r\n",
        "best_epoch"
      ],
      "execution_count": 25,
      "outputs": [
        {
          "output_type": "execute_result",
          "data": {
            "text/plain": [
              "10"
            ]
          },
          "metadata": {
            "tags": []
          },
          "execution_count": 25
        }
      ]
    },
    {
      "cell_type": "markdown",
      "metadata": {
        "id": "vEZs7VzcC121"
      },
      "source": [
        "# Top-N Recommendation"
      ]
    },
    {
      "cell_type": "code",
      "metadata": {
        "colab": {
          "base_uri": "https://localhost:8080/"
        },
        "id": "DAAXp-8MPfiI",
        "outputId": "25a9d5f1-5be4-4e50-9039-ed2c9b9085f7"
      },
      "source": [
        "from surprise import Reader\r\n",
        "from surprise import Dataset\r\n",
        "from surprise.model_selection import train_test_split\r\n",
        "from surprise import SVD\r\n",
        "from surprise import accuracy\r\n",
        "\r\n",
        "# Load the dataset into Surprise format\r\n",
        "reader = Reader(rating_scale=(min_rating, max_rating))\r\n",
        "data = Dataset.load_from_df(df, reader = reader)\r\n",
        "\r\n",
        "# sample random trainset and testset\r\n",
        "# test set is made of 20% of the ratings.\r\n",
        "trainset, testset = train_test_split(data, test_size=.20)\r\n",
        "\r\n",
        "# We'll use the famous SVD algorithm.\r\n",
        "algo = SVD(n_factors=best_factor, n_epochs=best_epoch)\r\n",
        "\r\n",
        "# Train the algorithm on the trainset\r\n",
        "algo.fit(trainset)"
      ],
      "execution_count": 26,
      "outputs": [
        {
          "output_type": "execute_result",
          "data": {
            "text/plain": [
              "<surprise.prediction_algorithms.matrix_factorization.SVD at 0x7fe978a12630>"
            ]
          },
          "metadata": {
            "tags": []
          },
          "execution_count": 26
        }
      ]
    },
    {
      "cell_type": "code",
      "metadata": {
        "colab": {
          "base_uri": "https://localhost:8080/",
          "height": 195
        },
        "id": "8R050xwcDzlE",
        "outputId": "3b4aa710-8f90-4748-e598-9a595281797a"
      },
      "source": [
        "df.head()"
      ],
      "execution_count": 27,
      "outputs": [
        {
          "output_type": "execute_result",
          "data": {
            "text/html": [
              "<div>\n",
              "<style scoped>\n",
              "    .dataframe tbody tr th:only-of-type {\n",
              "        vertical-align: middle;\n",
              "    }\n",
              "\n",
              "    .dataframe tbody tr th {\n",
              "        vertical-align: top;\n",
              "    }\n",
              "\n",
              "    .dataframe thead th {\n",
              "        text-align: right;\n",
              "    }\n",
              "</style>\n",
              "<table border=\"1\" class=\"dataframe\">\n",
              "  <thead>\n",
              "    <tr style=\"text-align: right;\">\n",
              "      <th></th>\n",
              "      <th>userId</th>\n",
              "      <th>movieId</th>\n",
              "      <th>rating</th>\n",
              "    </tr>\n",
              "  </thead>\n",
              "  <tbody>\n",
              "    <tr>\n",
              "      <th>0</th>\n",
              "      <td>1</td>\n",
              "      <td>1</td>\n",
              "      <td>4.0</td>\n",
              "    </tr>\n",
              "    <tr>\n",
              "      <th>1</th>\n",
              "      <td>1</td>\n",
              "      <td>3</td>\n",
              "      <td>4.0</td>\n",
              "    </tr>\n",
              "    <tr>\n",
              "      <th>2</th>\n",
              "      <td>1</td>\n",
              "      <td>6</td>\n",
              "      <td>4.0</td>\n",
              "    </tr>\n",
              "    <tr>\n",
              "      <th>3</th>\n",
              "      <td>1</td>\n",
              "      <td>47</td>\n",
              "      <td>5.0</td>\n",
              "    </tr>\n",
              "    <tr>\n",
              "      <th>4</th>\n",
              "      <td>1</td>\n",
              "      <td>50</td>\n",
              "      <td>5.0</td>\n",
              "    </tr>\n",
              "  </tbody>\n",
              "</table>\n",
              "</div>"
            ],
            "text/plain": [
              "   userId  movieId  rating\n",
              "0       1        1     4.0\n",
              "1       1        3     4.0\n",
              "2       1        6     4.0\n",
              "3       1       47     5.0\n",
              "4       1       50     5.0"
            ]
          },
          "metadata": {
            "tags": []
          },
          "execution_count": 27
        }
      ]
    },
    {
      "cell_type": "code",
      "metadata": {
        "id": "spm468wFDHcH"
      },
      "source": [
        "# Define user ID\r\n",
        "userID = 1"
      ],
      "execution_count": 28,
      "outputs": []
    },
    {
      "cell_type": "code",
      "metadata": {
        "colab": {
          "base_uri": "https://localhost:8080/"
        },
        "id": "TbIDNWz5bfwF",
        "outputId": "12db478a-963f-466a-c81b-b9d0eb476e9e"
      },
      "source": [
        "# Get a list of all movie IDs from dataset\r\n",
        "movie_ids = df[\"movieId\"].unique()\r\n",
        "movie_ids"
      ],
      "execution_count": 29,
      "outputs": [
        {
          "output_type": "execute_result",
          "data": {
            "text/plain": [
              "array([     1,      3,      6, ..., 160836, 163937, 163981])"
            ]
          },
          "metadata": {
            "tags": []
          },
          "execution_count": 29
        }
      ]
    },
    {
      "cell_type": "code",
      "metadata": {
        "colab": {
          "base_uri": "https://localhost:8080/"
        },
        "id": "185KOSzsCmIW",
        "outputId": "20575154-2162-42be-d49a-9a3abd4ed382"
      },
      "source": [
        "len(movie_ids)"
      ],
      "execution_count": 30,
      "outputs": [
        {
          "output_type": "execute_result",
          "data": {
            "text/plain": [
              "9724"
            ]
          },
          "metadata": {
            "tags": []
          },
          "execution_count": 30
        }
      ]
    },
    {
      "cell_type": "code",
      "metadata": {
        "colab": {
          "base_uri": "https://localhost:8080/"
        },
        "id": "Kqsp6k7xCvvh",
        "outputId": "5cf4c669-4c97-4a95-d338-684632421987"
      },
      "source": [
        "movie_ids_user = df.loc[df[\"userId\"] == userID, \"movieId\"]\r\n",
        "movie_ids_user"
      ],
      "execution_count": 31,
      "outputs": [
        {
          "output_type": "execute_result",
          "data": {
            "text/plain": [
              "0         1\n",
              "1         3\n",
              "2         6\n",
              "3        47\n",
              "4        50\n",
              "       ... \n",
              "227    3744\n",
              "228    3793\n",
              "229    3809\n",
              "230    4006\n",
              "231    5060\n",
              "Name: movieId, Length: 232, dtype: int64"
            ]
          },
          "metadata": {
            "tags": []
          },
          "execution_count": 31
        }
      ]
    },
    {
      "cell_type": "code",
      "metadata": {
        "id": "wxRvi-oxDBq0"
      },
      "source": [
        "movie_ids_to_pred = np.setdiff1d(movie_ids, movie_ids_user)"
      ],
      "execution_count": 32,
      "outputs": []
    },
    {
      "cell_type": "code",
      "metadata": {
        "id": "TBvW_4XSKncq"
      },
      "source": [
        "test_set = [[userID, movie_id, 4] for movie_id in movie_ids_to_pred]"
      ],
      "execution_count": 33,
      "outputs": []
    },
    {
      "cell_type": "code",
      "metadata": {
        "id": "BfyphzMXLBCs"
      },
      "source": [
        "predictions = algo.test(test_set)"
      ],
      "execution_count": 34,
      "outputs": []
    },
    {
      "cell_type": "code",
      "metadata": {
        "colab": {
          "base_uri": "https://localhost:8080/"
        },
        "id": "22RGGIQBTd9b",
        "outputId": "2b3f79b7-c33d-4dc0-e1f0-20556483a2ca"
      },
      "source": [
        "predictions[0]"
      ],
      "execution_count": 35,
      "outputs": [
        {
          "output_type": "execute_result",
          "data": {
            "text/plain": [
              "Prediction(uid=1, iid=2, r_ui=4, est=4.271802857552697, details={'was_impossible': False})"
            ]
          },
          "metadata": {
            "tags": []
          },
          "execution_count": 35
        }
      ]
    },
    {
      "cell_type": "code",
      "metadata": {
        "colab": {
          "base_uri": "https://localhost:8080/"
        },
        "id": "3lTTuG6cTtjN",
        "outputId": "93296e29-4e6c-4fac-f47f-f6236f605e32"
      },
      "source": [
        "pred_ratings = np.array([pred.est for pred in predictions])\r\n",
        "pred_ratings"
      ],
      "execution_count": 36,
      "outputs": [
        {
          "output_type": "execute_result",
          "data": {
            "text/plain": [
              "array([4.27180286, 4.06972992, 3.85645363, ..., 4.23204837, 4.31533612,\n",
              "       4.31773865])"
            ]
          },
          "metadata": {
            "tags": []
          },
          "execution_count": 36
        }
      ]
    },
    {
      "cell_type": "code",
      "metadata": {
        "id": "fGkoVNhtYJdY"
      },
      "source": [
        "n_items = 10"
      ],
      "execution_count": 37,
      "outputs": []
    },
    {
      "cell_type": "code",
      "metadata": {
        "colab": {
          "base_uri": "https://localhost:8080/"
        },
        "id": "a-d7lYx5USfm",
        "outputId": "3d904a8f-b65a-4cae-8922-bb9895510d7c"
      },
      "source": [
        "print(\"Top {0} item recommendations for user {1}:\".format(n_items, userID))\r\n",
        "index_max = (-pred_ratings).argsort()[:n_items]\r\n",
        "for i in index_max:\r\n",
        "    movie_id = movie_ids_to_pred[i]\r\n",
        "    print(movies[movies[\"movieId\"]==movie_id][\"title\"].values[0], pred_ratings[i])"
      ],
      "execution_count": 38,
      "outputs": [
        {
          "output_type": "stream",
          "text": [
            "Top 10 item recommendations for user 1:\n",
            "Lawrence of Arabia (1962) 5.0\n",
            "Shawshank Redemption, The (1994) 5.0\n",
            "Dr. Strangelove or: How I Learned to Stop Worrying and Love the Bomb (1964) 5.0\n",
            "Godfather, The (1972) 5.0\n",
            "Rear Window (1954) 5.0\n",
            "Memento (2000) 4.987513652502978\n",
            "Amadeus (1984) 4.985501052777822\n",
            "Godfather: Part II, The (1974) 4.978297185792678\n",
            "Amelie (Fabuleux destin d'Amélie Poulain, Le) (2001) 4.975721165387581\n",
            "One Flew Over the Cuckoo's Nest (1975) 4.954240967339852\n"
          ],
          "name": "stdout"
        }
      ]
    },
    {
      "cell_type": "code",
      "metadata": {
        "id": "VGHKZb3ubNxR"
      },
      "source": [
        ""
      ],
      "execution_count": 38,
      "outputs": []
    },
    {
      "cell_type": "markdown",
      "metadata": {
        "id": "NA8L04DDBXnU"
      },
      "source": [
        "References:\r\n",
        "- https://surprise.readthedocs.io/en/stable/getting_started.html\r\n",
        "- https://blog.cambridgespark.com/tutorial-practical-introduction-to-recommender-systems-dbe22848392b"
      ]
    }
  ]
}